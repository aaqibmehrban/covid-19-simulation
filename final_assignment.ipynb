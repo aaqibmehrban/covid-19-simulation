{
 "cells": [
  {
   "cell_type": "markdown",
   "metadata": {},
   "source": [
    "# Final assignment - Programming\n",
    "\n",
    "## Instructions\n",
    "\n",
    "Read the final assignment instructions from the course [webpage](https://sustainability-gis.readthedocs.io/en/latest/lessons/final-assignment/final-assignment.html). Remember to write readable code, and to provide adequate documentation using inline comments and markdown. Organize all your documents into this repository and add your codes and written parts to the [final_assignment.ipynb](final_assignment.ipynb) Notebook. In sum, anyone who downloads this repository should be able to **read your code and documentation** and understand what is going on, and **run your code** in order to reproduce the same results! \n",
    "\n",
    "- **Note 1:** You can upload your poster as a Powerpoint or as a PDF file to this same repository if the size is less than 100 MB. Hint: you can upload files directly via browser by i) pressing the `Add file` -button and then ii) `Upload files` -button on the Github.\n",
    "\n",
    "- **Note 2:** If your code requires some python packages not found in the csc notebooks environment, please mention them also in this readme and provide installation instrutions.\n",
    "\n",
    "- **Note 3:** Don't upload large files into GitHub! If you are using large input files, provide downloading instructions and perhaps a small sample of the data in this repository for demonstrating your workflow.\n",
    "\n",
    "- **Note 4:** Cite relevant literature related to the topic, and also add links to websites, tutorials books or articles that you found useful. If you got help from your course mates please also mention it in your report.\n",
    "\n",
    "### Due date\n",
    "\n",
    "In terms of the final assignment, we have the following deadlines: \n",
    "\n",
    "1. You should return your **finalized poster** to Henrikki (via Slack or email) by **Tuesday February 20th**. \n",
    "   - The poster session is organized on Thursday 22nd of February at 13:00-16:00 on campus.\n",
    "2. You should submit (push) your **Final assignment Notebook** to your group's Github repository **by Sunday 25th February**. \n",
    "\n",
    "### Code of conduct\n",
    "\n",
    "In the final assignment you will work as a team. **Inclusion, kindness and respect should be the guiding principles in the way of working in your group**. In practice, this means being compassionate to yourself and others, respect different viewpoints, identities and backgrounds, and apologizing when needed. Let's make this project a shared space for the process of learning & unlearning. Do not hesitate to contact Henrikki in case you have any worries regarding the code of conduct. \n",
    "\n",
    "### Start your exercise in CSC Notebooks\n",
    "\n",
    "Before you can start programming, you need to launch the CSC Notebook instance and clone your **personal copy of the Exercise repository** (i.e. something like `exercise-3-htenkanen`) there using Git. If you need help with this, [read the documentation on the course site](https://sustainability-gis.readthedocs.io/en/latest/lessons/L1/git-basics.html).\n",
    "\n",
    "### Working with Jupyter Notebooks\n",
    "\n",
    "Jupyter Notebooks are documents that can be used and run inside the JupyterLab programming environment (e.g. at [notebooks.csc.fi](https://notebooks.csc.fi/)) containing the computer code and rich text elements (such as text, figures, tables and links). \n",
    "\n",
    "**A couple of hints**:\n",
    "\n",
    "- You can **execute a cell** by clicking a given cell that you want to run and pressing <kbd>Shift</kbd> + <kbd>Enter</kbd> (or by clicking the \"Play\" button on top)\n",
    "- You can **change the cell-type** between `Markdown` (for writing text) and `Code` (for writing/executing code) from the dropdown menu above. \n",
    "\n",
    "See [**further details and help from here**](https://pythongis.org/part1/chapter-01/nb/04-using-jupyterlab.html). \n"
   ]
  },
  {
   "cell_type": "markdown",
   "metadata": {},
   "source": [
    "## Meetings log\n",
    "\n",
    "Keeping track of the meetings is one important and typical task of project management. Hence, **you should keep a record of when you have met together to work with the project, and who was present in those meetings**. Please use the cell below to add this information:"
   ]
  },
  {
   "cell_type": "markdown",
   "metadata": {},
   "source": [
    "- Meeting 1:\n",
    "  - Date: 22.1.2024\n",
    "  - Who was present?: Add names\n",
    "  - Meeting topic (optional): Getting to know the team members.\n",
    "  \n",
    "- Meeting 2:\n",
    "  - Date: x.x.xxxx\n",
    "  - Who was present?: Add names\n",
    "  - Meeting topic (optional):\n",
    "\n",
    "- Meeting 3:\n",
    "  - Date: x.x.xxxx\n",
    "  - Who was present?: Add names\n",
    "  - Meeting topic (optional):\n",
    "\n",
    "- Meeting 4:\n",
    "  - Date: x.x.xxxx\n",
    "  - Who was present?: Add names\n",
    "  - Meeting topic (optional):\n",
    "\n",
    "*Add more meeting logs when needed.*"
   ]
  },
  {
   "cell_type": "markdown",
   "metadata": {},
   "source": [
    "## Add your work below\n",
    "\n",
    "Mix markdown cells with code cells regularly to explain and document your work / codes (in a similar manner as how the Exercises of this course were written). \n",
    "Below we provide you a suggestion for the structure of the report by listing the main components that would be good to include in your work. However, you do not necessarily need to follow this structure and you can adjust the headings as you see best."
   ]
  },
  {
   "cell_type": "markdown",
   "metadata": {},
   "source": [
    "## 1. Introduction\n",
    "\n",
    "Add introduction."
   ]
  },
  {
   "cell_type": "markdown",
   "metadata": {},
   "source": [
    "## 2. Data and methods\n",
    "\n",
    "Describe your data (list also the used data sources) and give an overview of the methods that you use in your work."
   ]
  },
  {
   "cell_type": "markdown",
   "metadata": {},
   "source": [
    "## 3. Data analysis + Results\n",
    "\n",
    "Add and explain your analysis workflow below here."
   ]
  },
  {
   "cell_type": "code",
   "execution_count": null,
   "metadata": {},
   "outputs": [],
   "source": [
    "# Add your data analysis here by adding code cells as you see best"
   ]
  },
  {
   "cell_type": "markdown",
   "metadata": {},
   "source": [
    "## 4. Discussion / reflection\n",
    "\n",
    "Add possible notes / discussion e.g. about methodological challenges or data-related limitations that you think are relevant for your analysis and/or topic."
   ]
  },
  {
   "cell_type": "markdown",
   "metadata": {},
   "source": [
    "## 5. References\n",
    "\n",
    "Add references here."
   ]
  },
  {
   "cell_type": "markdown",
   "metadata": {},
   "source": [
    "## 6. Assessment of the group work \n",
    "\n",
    "**How did it went?** Please evaluate below how working together went in general for this final assignment? Did you face any challenges? What was good? Is there something that could be improved in the ways you worked together considering possible future projects?\n",
    "\n",
    "- Answer:\n",
    "\n"
   ]
  },
  {
   "cell_type": "markdown",
   "metadata": {},
   "source": [
    "## 7. The division of work\n",
    "\n",
    "Please descibe below how you distributed the work in the final assignment. I.e. who participated to which activities?\n",
    "\n",
    "- **Writing the codes / doing the analyses**. Describe how you distributed the workload of this task (who worked on this)?:  \n",
    "  - Answer: \n",
    "- **Finding relevant data, literature and other required material**. Describe how you distributed the workload of this task (who worked on this)?: \n",
    "  - Answer:\n",
    "- **Preparing and creating the poster presentation.** Describe how you distributed the workload of this task (who worked on this)?: \n",
    "  - Answer:\n",
    "- **Other relevant information related to distribution of work**. In case you would like to provide any further information regarding the distribution of work, please add your comments here (optional):\n",
    "  - Comments: "
   ]
  },
  {
   "cell_type": "markdown",
   "metadata": {},
   "source": [
    "## 8. How much time did it take to finalize the work?\n",
    "\n",
    "To help us improve the course and make the final assignment better in the future, we would appreciate if you could answer the following:\n",
    "\n",
    "- It took approximately: **X hours** to do the **programming / analyses parts.**  \n",
    "- It took approximately: **X hours** to **prepare (for) the poster.**  \n",
    "\n",
    "\n",
    "**Any other comments or suggestions for improving the final work assignment?**\n",
    "\n",
    " - *Add your comments here*\n",
    "\n"
   ]
  },
  {
   "cell_type": "markdown",
   "metadata": {},
   "source": [
    "## 9. Consent\n",
    "\n",
    "We would like to make a gallery out of the posters to our website, where we could showcase the work that the teams have been doing. We naturally won't put your work to the website without your consent. Hence, please specify whether it is okay to include your poster on our course website below (make a decision as a team):\n",
    "\n",
    "- [ ] We give permission to show our poster on the \"Spatial Data Science for Sustainable Development\" -course website.\n",
    "- [ ] We do not give permission to show our poster on the \"Spatial Data Science for Sustainable Development\" -course website.\n",
    "\n",
    "*Please double click this cell, and add a character 'X' inside the option (square brackets) that you want you choose.*"
   ]
  }
 ],
 "metadata": {
  "kernelspec": {
   "display_name": "Python 3 (ipykernel)",
   "language": "python",
   "name": "python3"
  },
  "language_info": {
   "codemirror_mode": {
    "name": "ipython",
    "version": 3
   },
   "file_extension": ".py",
   "mimetype": "text/x-python",
   "name": "python",
   "nbconvert_exporter": "python",
   "pygments_lexer": "ipython3",
   "version": "3.10.13"
  }
 },
 "nbformat": 4,
 "nbformat_minor": 4
}
